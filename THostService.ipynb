{
 "cells": [
  {
   "cell_type": "code",
   "execution_count": null,
   "metadata": {},
   "outputs": [],
   "source": [
    "from pyHostService import Client\n",
    "import logging\n",
    "import sys"
   ]
  },
  {
   "cell_type": "code",
   "execution_count": null,
   "metadata": {},
   "outputs": [],
   "source": [
    "def get_logger():\n",
    "    global logger\n",
    "    if not 'logger' in globals():\n",
    "        logger = logging.getLogger('THostService')\n",
    "        logger.setLevel(logging.INFO)\n",
    "    return logger\n",
    "\n",
    "logger = get_logger()"
   ]
  },
  {
   "cell_type": "code",
   "execution_count": null,
   "metadata": {},
   "outputs": [],
   "source": [
    "client = Client(logger, 'COM7', 0x00, bytes(32), baudrate=115200)"
   ]
  },
  {
   "cell_type": "code",
   "execution_count": null,
   "metadata": {},
   "outputs": [],
   "source": [
    "await client.open()"
   ]
  },
  {
   "cell_type": "code",
   "execution_count": 73,
   "metadata": {},
   "outputs": [
    {
     "name": "stderr",
     "output_type": "stream",
     "text": [
      "DEBUG:THostService.Client[0]:Request: Get Symbols\n",
      "DEBUG:THostService.Port:Header: b'00 03 02 00 00', Checksum: b'e4 b0'\n",
      "DEBUG:THostService.Port:Extra: b'00 00', Checksum: b'1d 0f'\n",
      "DEBUG:THostService.Client[0]:Response of Command.GET_SIZE with ErrorCode.S_OK\n",
      "DEBUG:THostService.Client[0]:Extra: b'0f 00'\n",
      "DEBUG:THostService.Client[0]:symbols size: 15\n",
      "DEBUG:THostService.Port:Header: b'00 01 04 00 00', Checksum: b'bb 78'\n",
      "DEBUG:THostService.Port:Extra: b'00 00 00 00', Checksum: b'84 c0'\n",
      "DEBUG:THostService.Client[0]:Response of Command.GET_PROPERTY with ErrorCode.S_OK\n",
      "DEBUG:THostService.Client[0]:Extra: b'73 79 6d 62 6f 6c 73'\n",
      "DEBUG:THostService.Port:Header: b'00 01 04 00 00', Checksum: b'bb 78'\n",
      "DEBUG:THostService.Port:Extra: b'00 00 01 00', Checksum: b'b7 f1'\n",
      "DEBUG:THostService.Client[0]:Response of Command.GET_PROPERTY with ErrorCode.S_OK\n",
      "DEBUG:THostService.Client[0]:Extra: b'61 64 64 72 65 73 73'\n",
      "DEBUG:THostService.Port:Header: b'00 01 04 00 00', Checksum: b'bb 78'\n",
      "DEBUG:THostService.Port:Extra: b'00 00 02 00', Checksum: b'e2 a2'\n",
      "DEBUG:THostService.Client[0]:Response of Command.GET_PROPERTY with ErrorCode.S_OK\n",
      "DEBUG:THostService.Client[0]:Extra: b'6e 6f 6e 63 65'\n",
      "DEBUG:THostService.Port:Header: b'00 01 04 00 00', Checksum: b'bb 78'\n",
      "DEBUG:THostService.Port:Extra: b'00 00 03 00', Checksum: b'd1 93'\n",
      "DEBUG:THostService.Client[0]:Response of Command.GET_PROPERTY with ErrorCode.E_NO_PERMISSION\n",
      "DEBUG:THostService.Client[0]:Extra: b'00 00 03 00'\n",
      "DEBUG:THostService.Port:Header: b'00 01 02 00 00', Checksum: b'09 d8'\n",
      "DEBUG:THostService.Port:Extra: b'02 00', Checksum: b'7b 6d'\n",
      "DEBUG:THostService.Client[0]:Response of Command.GET_PROPERTY with ErrorCode.S_OK\n",
      "DEBUG:THostService.Client[0]:Extra: b'00 00 00 00 00 00 00 00 00 00 00 00'\n",
      "DEBUG:THostService.Client[0]:Nonce: b'00 00 00 00 00 00 00 00 00 00 00 00'\n",
      "DEBUG:THostService.Client[0].Cipher:Plaintext: b'00 00 03 00'\n",
      "DEBUG:THostService.Client[0].Cipher:Ciphertext: b'c1 94 43 44'\n",
      "DEBUG:THostService.Client[0].Cipher:Tag: b'6b aa 28 f4 1e 51 a6 f0 3e e3 10 d7 15 d6 5f c0'\n",
      "DEBUG:THostService.Port:Header: b'00 81 04 00 00', Checksum: b'66 40'\n",
      "DEBUG:THostService.Port:Extra: b'6b aa 28 f4 1e 51 a6 f0 3e e3 10 d7 15 d6 5f c0 c1 94 43 44', Checksum: b'92 22'\n",
      "DEBUG:THostService.Client[0]:Response of Command.GET_PROPERTY with ErrorCode.S_OK\n",
      "DEBUG:THostService.Client[0].Cipher:Tag: b'dd 14 f2 62 f7 fe d1 ea 5e aa d4 b6 61 ef d2 32'\n",
      "DEBUG:THostService.Client[0].Cipher:Ciphertext: b'aa f1 39'\n",
      "DEBUG:THostService.Client[0].Cipher:Plaintext: b'6b 65 79'\n",
      "DEBUG:THostService.Client[0]:Extra: b'6b 65 79'\n",
      "DEBUG:THostService.Port:Header: b'00 01 04 00 00', Checksum: b'bb 78'\n",
      "DEBUG:THostService.Port:Extra: b'00 00 04 00', Checksum: b'48 04'\n",
      "DEBUG:THostService.Client[0]:Response of Command.GET_PROPERTY with ErrorCode.S_OK\n",
      "DEBUG:THostService.Client[0]:Extra: b'72 65 73 65 74'\n",
      "DEBUG:THostService.Port:Header: b'00 01 04 00 00', Checksum: b'bb 78'\n",
      "DEBUG:THostService.Port:Extra: b'00 00 05 00', Checksum: b'7b 35'\n",
      "DEBUG:THostService.Client[0]:Response of Command.GET_PROPERTY with ErrorCode.S_OK\n",
      "DEBUG:THostService.Client[0]:Extra: b'77 61 76 65 2e 6c 64 2e 30'\n",
      "DEBUG:THostService.Port:Header: b'00 01 04 00 00', Checksum: b'bb 78'\n",
      "DEBUG:THostService.Port:Extra: b'00 00 06 00', Checksum: b'2e 66'\n",
      "DEBUG:THostService.Client[0]:Response of Command.GET_PROPERTY with ErrorCode.S_OK\n",
      "DEBUG:THostService.Client[0]:Extra: b'77 61 76 65 2e 6c 64 2e 31'\n",
      "DEBUG:THostService.Port:Header: b'00 01 04 00 00', Checksum: b'bb 78'\n",
      "DEBUG:THostService.Port:Extra: b'00 00 07 00', Checksum: b'1d 57'\n",
      "DEBUG:THostService.Client[0]:Response of Command.GET_PROPERTY with ErrorCode.S_OK\n",
      "DEBUG:THostService.Client[0]:Extra: b'77 61 76 65 2e 6c 64 2e 32'\n",
      "DEBUG:THostService.Port:Header: b'00 01 04 00 00', Checksum: b'bb 78'\n",
      "DEBUG:THostService.Port:Extra: b'00 00 08 00', Checksum: b'0d 69'\n",
      "DEBUG:THostService.Client[0]:Response of Command.GET_PROPERTY with ErrorCode.S_OK\n",
      "DEBUG:THostService.Client[0]:Extra: b'77 61 76 65 2e 6c 64 2e 33'\n",
      "DEBUG:THostService.Port:Header: b'00 01 04 00 00', Checksum: b'bb 78'\n",
      "DEBUG:THostService.Port:Extra: b'00 00 09 00', Checksum: b'3e 58'\n",
      "DEBUG:THostService.Client[0]:Response of Command.GET_PROPERTY with ErrorCode.S_OK\n",
      "DEBUG:THostService.Client[0]:Extra: b'77 61 76 65 2e 6c 64 2e 34'\n",
      "DEBUG:THostService.Port:Header: b'00 01 04 00 00', Checksum: b'bb 78'\n",
      "DEBUG:THostService.Port:Extra: b'00 00 0a 00', Checksum: b'6b 0b'\n",
      "DEBUG:THostService.Client[0]:Response of Command.GET_PROPERTY with ErrorCode.S_OK\n"
     ]
    },
    {
     "name": "stdout",
     "output_type": "stream",
     "text": [
      "symbols: 0\n",
      "address: 1\n",
      "nonce: 2\n",
      "key: 3\n",
      "reset: 4\n",
      "wave.ld.0: 5\n",
      "wave.ld.1: 6\n",
      "wave.ld.2: 7\n",
      "wave.ld.3: 8\n",
      "wave.ld.4: 9\n"
     ]
    },
    {
     "name": "stderr",
     "output_type": "stream",
     "text": [
      "DEBUG:THostService.Client[0]:Extra: b'77 61 76 65 2e 6c 64 2e 35'\n",
      "DEBUG:THostService.Port:Header: b'00 01 04 00 00', Checksum: b'bb 78'\n",
      "DEBUG:THostService.Port:Extra: b'00 00 0b 00', Checksum: b'58 3a'\n",
      "DEBUG:THostService.Client[0]:Response of Command.GET_PROPERTY with ErrorCode.S_OK\n",
      "DEBUG:THostService.Client[0]:Extra: b'77 61 76 65 2e 6c 64 2e 36'\n",
      "DEBUG:THostService.Port:Header: b'00 01 04 00 00', Checksum: b'bb 78'\n",
      "DEBUG:THostService.Port:Extra: b'00 00 0c 00', Checksum: b'c1 ad'\n",
      "DEBUG:THostService.Client[0]:Response of Command.GET_PROPERTY with ErrorCode.S_OK\n",
      "DEBUG:THostService.Client[0]:Extra: b'77 61 76 65 2e 6c 64 2e 37'\n",
      "DEBUG:THostService.Port:Header: b'00 01 04 00 00', Checksum: b'bb 78'\n",
      "DEBUG:THostService.Port:Extra: b'00 00 0d 00', Checksum: b'f2 9c'\n",
      "DEBUG:THostService.Client[0]:Response of Command.GET_PROPERTY with ErrorCode.S_OK\n",
      "DEBUG:THostService.Client[0]:Extra: b'77 61 76 65 2e 6c 64 2e 38'\n",
      "DEBUG:THostService.Port:Header: b'00 01 04 00 00', Checksum: b'bb 78'\n",
      "DEBUG:THostService.Port:Extra: b'00 00 0e 00', Checksum: b'a7 cf'\n",
      "DEBUG:THostService.Client[0]:Response of Command.GET_PROPERTY with ErrorCode.S_OK\n",
      "DEBUG:THostService.Client[0]:Extra: b'77 61 76 65 2e 6c 64 2e 39'\n",
      "DEBUG:THostService.Client[0]:Symbols: {'symbols': 0, 'address': 1, 'nonce': 2, 'key': 3, 'reset': 4, 'wave.ld.0': 5, 'wave.ld.1': 6, 'wave.ld.2': 7, 'wave.ld.3': 8, 'wave.ld.4': 9, 'wave.ld.5': 10, 'wave.ld.6': 11, 'wave.ld.7': 12, 'wave.ld.8': 13, 'wave.ld.9': 14}\n",
      "DEBUG:THostService.Client[0]:End Request: Get Symbols\n"
     ]
    },
    {
     "name": "stdout",
     "output_type": "stream",
     "text": [
      "wave.ld.5: 10\n",
      "wave.ld.6: 11\n",
      "wave.ld.7: 12\n",
      "wave.ld.8: 13\n",
      "wave.ld.9: 14\n"
     ]
    }
   ],
   "source": [
    "async for name, id in client._get_symbols():\n",
    "    print(f'{name}: {id}')"
   ]
  },
  {
   "cell_type": "code",
   "execution_count": null,
   "metadata": {},
   "outputs": [],
   "source": [
    "await client.get_size('symbols')"
   ]
  },
  {
   "cell_type": "code",
   "execution_count": null,
   "metadata": {},
   "outputs": [],
   "source": [
    "await client.echo(b'\\x00', encrypt=True)"
   ]
  },
  {
   "cell_type": "code",
   "execution_count": null,
   "metadata": {},
   "outputs": [],
   "source": [
    "await client.echo(b'\\x00', encrypt=False)"
   ]
  },
  {
   "cell_type": "code",
   "execution_count": null,
   "metadata": {},
   "outputs": [],
   "source": [
    "await client.set_prop('reset', True, no_response=True)"
   ]
  },
  {
   "cell_type": "code",
   "execution_count": null,
   "metadata": {},
   "outputs": [],
   "source": [
    "await client.close()"
   ]
  }
 ],
 "metadata": {
  "kernelspec": {
   "display_name": "Python 3",
   "language": "python",
   "name": "python3"
  },
  "language_info": {
   "codemirror_mode": {
    "name": "ipython",
    "version": 3
   },
   "file_extension": ".py",
   "mimetype": "text/x-python",
   "name": "python",
   "nbconvert_exporter": "python",
   "pygments_lexer": "ipython3",
   "version": "3.11.9"
  }
 },
 "nbformat": 4,
 "nbformat_minor": 2
}
