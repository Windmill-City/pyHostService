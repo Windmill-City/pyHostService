{
 "cells": [
  {
   "cell_type": "code",
   "execution_count": 1,
   "metadata": {},
   "outputs": [],
   "source": [
    "from pyHost import Client, Cipher, MaskableLogger\n",
    "import logging"
   ]
  },
  {
   "cell_type": "code",
   "execution_count": 2,
   "metadata": {},
   "outputs": [],
   "source": [
    "def get_logger():\n",
    "    global logger\n",
    "    if not 'logger' in globals():\n",
    "        logging.basicConfig()\n",
    "        logger = logging.getLogger('THostService')\n",
    "        logger.setLevel(logging.DEBUG)\n",
    "        logger = MaskableLogger(logger)\n",
    "    return logger\n",
    "\n",
    "logger = get_logger()"
   ]
  },
  {
   "cell_type": "code",
   "execution_count": 3,
   "metadata": {},
   "outputs": [],
   "source": [
    "client = Client(logger, 0x80, Cipher(logger, bytes(32)))"
   ]
  },
  {
   "cell_type": "code",
   "execution_count": 4,
   "metadata": {},
   "outputs": [
    {
     "name": "stderr",
     "output_type": "stream",
     "text": [
      "INFO:THostService.Port:[COM5] has created!\n"
     ]
    }
   ],
   "source": [
    "client.open('COM5', baudrate=115200)"
   ]
  },
  {
   "cell_type": "code",
   "execution_count": 5,
   "metadata": {},
   "outputs": [
    {
     "name": "stderr",
     "output_type": "stream",
     "text": [
      "INFO:THostService.Client[80]:Echo: b'00'\n",
      "DEBUG:THostService.Port:Tx: Header: b'80 00 01 00 00', Checksum: b'04 ec'\n",
      "DEBUG:THostService.Port:Tx: Extra[1]: b'00', Checksum: b'e1 f0'\n",
      "DEBUG:THostService.Client[80]:Response of Command.ECHO with ErrorCode.S_OK\n",
      "DEBUG:THostService.Client[80]:Extra: b'00'\n",
      "INFO:THostService.Client[80]:Echo answer: b'00'\n"
     ]
    },
    {
     "data": {
      "text/plain": [
       "bytearray(b'\\x00')"
      ]
     },
     "execution_count": 5,
     "metadata": {},
     "output_type": "execute_result"
    }
   ],
   "source": [
    "await client.echo(b'\\x00')"
   ]
  },
  {
   "cell_type": "code",
   "execution_count": 6,
   "metadata": {},
   "outputs": [
    {
     "name": "stderr",
     "output_type": "stream",
     "text": [
      "DEBUG:THostService.Client[80]:Request: Get Symbols\n",
      "DEBUG:THostService.Port:Tx: Header: b'80 03 02 00 00', Checksum: b'c6 60'\n",
      "DEBUG:THostService.Port:Tx: Extra[2]: b'00 00', Checksum: b'1d 0f'\n",
      "DEBUG:THostService.Client[80]:Response of Command.GET_SIZE with ErrorCode.S_OK\n",
      "DEBUG:THostService.Client[80]:Extra: b'03 00'\n",
      "DEBUG:THostService.Client[80]:symbols size: 3\n",
      "DEBUG:THostService.Port:Tx: Header: b'80 01 04 00 00', Checksum: b'99 a8'\n",
      "DEBUG:THostService.Port:Tx: Extra[4]: b'00 00 00 00', Checksum: b'84 c0'\n",
      "DEBUG:THostService.Client[80]:Response of Command.GET_PROPERTY with ErrorCode.S_OK\n",
      "DEBUG:THostService.Client[80]:Extra: b'73 79 6d 62 6f 6c 73'\n",
      "DEBUG:THostService.Port:Tx: Header: b'80 01 04 00 00', Checksum: b'99 a8'\n",
      "DEBUG:THostService.Port:Tx: Extra[4]: b'00 00 01 00', Checksum: b'b7 f1'\n",
      "DEBUG:THostService.Client[80]:Response of Command.GET_PROPERTY with ErrorCode.S_OK\n",
      "DEBUG:THostService.Client[80]:Extra: b'6e 6f 6e 63 65'\n",
      "DEBUG:THostService.Port:Tx: Header: b'80 01 04 00 00', Checksum: b'99 a8'\n",
      "DEBUG:THostService.Port:Tx: Extra[4]: b'00 00 02 00', Checksum: b'e2 a2'\n",
      "DEBUG:THostService.Client[80]:Response of Command.GET_PROPERTY with ErrorCode.S_OK\n",
      "DEBUG:THostService.Client[80]:Extra: b'72 65 73 65 74'\n",
      "DEBUG:THostService.Client[80]:Symbols: {'symbols': np.uint16(0), 'nonce': np.uint16(1), 'reset': np.uint16(2)}\n",
      "DEBUG:THostService.Client[80]:End Request: Get Symbols\n"
     ]
    },
    {
     "name": "stdout",
     "output_type": "stream",
     "text": [
      "symbols: 0\n",
      "nonce: 1\n",
      "reset: 2\n"
     ]
    }
   ],
   "source": [
    "async for name, id in client.get_symbols():\n",
    "    print(f'{name}: {id}')"
   ]
  },
  {
   "cell_type": "code",
   "execution_count": 7,
   "metadata": {},
   "outputs": [
    {
     "name": "stderr",
     "output_type": "stream",
     "text": [
      "INFO:THostService.Client[80]:Echo: b'00'\n",
      "DEBUG:THostService.Port:Tx: Header: b'80 01 02 00 00', Checksum: b'2b 08'\n",
      "DEBUG:THostService.Port:Tx: Extra[2]: b'01 00', Checksum: b'2e 3e'\n",
      "DEBUG:THostService.Client[80]:Response of Command.GET_PROPERTY with ErrorCode.S_OK\n",
      "DEBUG:THostService.Client[80]:Extra: b'00 00 00 00 00 00 00 00 00 00 00 00'\n",
      "DEBUG:THostService.Client[80]:Nonce: b'00 00 00 00 00 00 00 00 00 00 00 00'\n",
      "DEBUG:THostService.Cipher:Plaintext: b'00'\n",
      "DEBUG:THostService.Cipher:Ciphertext: b'c1'\n",
      "DEBUG:THostService.Cipher:Tag: b'a9 8a 1d 2d 78 e3 50 f3 38 cd a0 0c cc 71 d6 08'\n",
      "DEBUG:THostService.Port:Tx: Header: b'80 80 01 00 00', Checksum: b'd9 d4'\n",
      "DEBUG:THostService.Port:Tx: Extra[17]: b'a9 8a 1d 2d 78 e3 50 f3 38 cd a0 0c cc 71 d6 08 c1', Checksum: b'd1 f4'\n",
      "DEBUG:THostService.Client[80]:Response of Command.ECHO with ErrorCode.S_OK\n",
      "DEBUG:THostService.Cipher:Tag: b'a9 8a 1d 2d 78 e3 50 f3 38 cd a0 0c cc 71 d6 08'\n",
      "DEBUG:THostService.Cipher:Ciphertext: b'c1'\n",
      "DEBUG:THostService.Cipher:Plaintext: b'00'\n",
      "DEBUG:THostService.Client[80]:Extra: b'00'\n",
      "INFO:THostService.Client[80]:Echo answer: b'00'\n"
     ]
    },
    {
     "data": {
      "text/plain": [
       "b'\\x00'"
      ]
     },
     "execution_count": 7,
     "metadata": {},
     "output_type": "execute_result"
    }
   ],
   "source": [
    "await client.echo(b'\\x00', encrypt=True)"
   ]
  },
  {
   "cell_type": "code",
   "execution_count": 8,
   "metadata": {},
   "outputs": [
    {
     "name": "stderr",
     "output_type": "stream",
     "text": [
      "INFO:THostService.Client[80]:Request: Set Prop[reset]\n",
      "DEBUG:THostService.Port:Tx: Header: b'80 02 03 00 00', Checksum: b'87 e4'\n",
      "DEBUG:THostService.Port:Tx: Extra[3]: b'02 00 01', Checksum: b'b2 dd'\n",
      "INFO:THostService.Client[80]:End Request: Set Prop[reset]\n"
     ]
    }
   ],
   "source": [
    "await client.set_prop('reset', True, no_response=True)"
   ]
  },
  {
   "cell_type": "code",
   "execution_count": 9,
   "metadata": {},
   "outputs": [
    {
     "name": "stderr",
     "output_type": "stream",
     "text": [
      "INFO:THostService.Port:[COM5] has closed!\n"
     ]
    }
   ],
   "source": [
    "client.close()"
   ]
  }
 ],
 "metadata": {
  "kernelspec": {
   "display_name": "Python 3",
   "language": "python",
   "name": "python3"
  },
  "language_info": {
   "codemirror_mode": {
    "name": "ipython",
    "version": 3
   },
   "file_extension": ".py",
   "mimetype": "text/x-python",
   "name": "python",
   "nbconvert_exporter": "python",
   "pygments_lexer": "ipython3",
   "version": "3.12.4"
  }
 },
 "nbformat": 4,
 "nbformat_minor": 2
}
