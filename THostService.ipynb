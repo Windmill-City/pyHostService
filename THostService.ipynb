{
 "cells": [
  {
   "cell_type": "code",
   "execution_count": 1,
   "metadata": {},
   "outputs": [],
   "source": [
    "from pyHost import Client, Cipher, MaskableLogger\n",
    "import logging"
   ]
  },
  {
   "cell_type": "code",
   "execution_count": 2,
   "metadata": {},
   "outputs": [],
   "source": [
    "def get_logger():\n",
    "    global logger\n",
    "    if not 'logger' in globals():\n",
    "        logging.basicConfig()\n",
    "        logger = logging.getLogger()\n",
    "        logger.setLevel(logging.INFO)\n",
    "        logger = MaskableLogger(logger)\n",
    "    return logger\n",
    "\n",
    "logger = get_logger()"
   ]
  },
  {
   "cell_type": "code",
   "execution_count": 3,
   "metadata": {},
   "outputs": [],
   "source": [
    "client = Client(logger, 0x80, Cipher(logger, bytes(32)))"
   ]
  },
  {
   "cell_type": "code",
   "execution_count": 4,
   "metadata": {},
   "outputs": [
    {
     "name": "stderr",
     "output_type": "stream",
     "text": [
      "INFO:Port:[COM5] has created!\n"
     ]
    }
   ],
   "source": [
    "client.open('COM5', baudrate=1152000)"
   ]
  },
  {
   "cell_type": "code",
   "execution_count": 5,
   "metadata": {},
   "outputs": [
    {
     "name": "stderr",
     "output_type": "stream",
     "text": [
      "INFO:Client[80]:Echo: b'00'\n",
      "INFO:Client[80]:Echo answer: b'00'\n"
     ]
    },
    {
     "data": {
      "text/plain": [
       "bytearray(b'\\x00')"
      ]
     },
     "execution_count": 5,
     "metadata": {},
     "output_type": "execute_result"
    }
   ],
   "source": [
    "await client.echo(b'\\x00')"
   ]
  },
  {
   "cell_type": "code",
   "execution_count": 6,
   "metadata": {},
   "outputs": [
    {
     "name": "stdout",
     "output_type": "stream",
     "text": [
      "symbols: 0\n",
      "nonce: 1\n",
      "reset: 2\n"
     ]
    }
   ],
   "source": [
    "async for name, id in client.get_symbols():\n",
    "    print(f'{name}: {id}')"
   ]
  },
  {
   "cell_type": "code",
   "execution_count": 7,
   "metadata": {},
   "outputs": [
    {
     "name": "stderr",
     "output_type": "stream",
     "text": [
      "INFO:Client[80]:Echo: b'00'\n",
      "INFO:Client[80]:Echo answer: b'00'\n"
     ]
    },
    {
     "data": {
      "text/plain": [
       "b'\\x00'"
      ]
     },
     "execution_count": 7,
     "metadata": {},
     "output_type": "execute_result"
    }
   ],
   "source": [
    "await client.echo(b'\\x00', encrypt=True)"
   ]
  },
  {
   "cell_type": "code",
   "execution_count": 8,
   "metadata": {},
   "outputs": [
    {
     "name": "stderr",
     "output_type": "stream",
     "text": [
      "INFO:Client[80]:Request: Set Prop[reset]\n",
      "INFO:Client[80]:End Request: Set Prop[reset]\n",
      "INFO:Client[80]:Connecting...\n",
      "INFO:Client[80]:Echo: b''\n",
      "INFO:Server[80]:Bootloader: Version: 0.0.0\n",
      "INFO:Server[80]:RDP: Active RDP state: 0\n",
      "INFO:Client[80]:Echo: b''\n",
      "INFO:Client[80]:Echo answer: b''\n",
      "INFO:Client[80]:Connected!\n"
     ]
    }
   ],
   "source": [
    "await client.set_prop('reset', True, no_response=True)\n",
    "await client.connect()"
   ]
  },
  {
   "cell_type": "code",
   "execution_count": 9,
   "metadata": {},
   "outputs": [
    {
     "name": "stderr",
     "output_type": "stream",
     "text": [
      "INFO:Port:[COM5] has closed!\n"
     ]
    }
   ],
   "source": [
    "client.close()"
   ]
  }
 ],
 "metadata": {
  "kernelspec": {
   "display_name": "Python 3",
   "language": "python",
   "name": "python3"
  },
  "language_info": {
   "codemirror_mode": {
    "name": "ipython",
    "version": 3
   },
   "file_extension": ".py",
   "mimetype": "text/x-python",
   "name": "python",
   "nbconvert_exporter": "python",
   "pygments_lexer": "ipython3",
   "version": "3.12.4"
  }
 },
 "nbformat": 4,
 "nbformat_minor": 2
}
